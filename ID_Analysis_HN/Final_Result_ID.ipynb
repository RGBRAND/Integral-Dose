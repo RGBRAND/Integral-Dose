{
 "cells": [
  {
   "cell_type": "code",
   "execution_count": 5,
   "metadata": {},
   "outputs": [],
   "source": [
    "import pandas as pd\n",
    "import numpy as np"
   ]
  },
  {
   "cell_type": "code",
   "execution_count": 6,
   "metadata": {},
   "outputs": [],
   "source": [
    "df = pd.read_excel(r\"C:\\Users\\HP PC\\Desktop\\005\\KOSHILYA_DVH_7&9_Beams.xlsx\", sheet_name='Data_9_Beams', skipfooter=3, skiprows=2)"
   ]
  },
  {
   "cell_type": "code",
   "execution_count": 7,
   "metadata": {},
   "outputs": [
    {
     "data": {
      "text/html": [
       "<div>\n",
       "<style scoped>\n",
       "    .dataframe tbody tr th:only-of-type {\n",
       "        vertical-align: middle;\n",
       "    }\n",
       "\n",
       "    .dataframe tbody tr th {\n",
       "        vertical-align: top;\n",
       "    }\n",
       "\n",
       "    .dataframe thead th {\n",
       "        text-align: right;\n",
       "    }\n",
       "</style>\n",
       "<table border=\"1\" class=\"dataframe\">\n",
       "  <thead>\n",
       "    <tr style=\"text-align: right;\">\n",
       "      <th></th>\n",
       "      <th>Structure Name</th>\n",
       "      <th>Dose</th>\n",
       "      <th>Volume</th>\n",
       "    </tr>\n",
       "  </thead>\n",
       "  <tbody>\n",
       "    <tr>\n",
       "      <th>0</th>\n",
       "      <td>BASE OF TONGUE</td>\n",
       "      <td>0.0</td>\n",
       "      <td>0.000</td>\n",
       "    </tr>\n",
       "    <tr>\n",
       "      <th>1</th>\n",
       "      <td>BASE OF TONGUE</td>\n",
       "      <td>5676.5</td>\n",
       "      <td>0.000</td>\n",
       "    </tr>\n",
       "    <tr>\n",
       "      <th>2</th>\n",
       "      <td>BASE OF TONGUE</td>\n",
       "      <td>5677.5</td>\n",
       "      <td>0.005</td>\n",
       "    </tr>\n",
       "    <tr>\n",
       "      <th>3</th>\n",
       "      <td>BASE OF TONGUE</td>\n",
       "      <td>5678.5</td>\n",
       "      <td>0.000</td>\n",
       "    </tr>\n",
       "    <tr>\n",
       "      <th>4</th>\n",
       "      <td>BASE OF TONGUE</td>\n",
       "      <td>5698.5</td>\n",
       "      <td>0.000</td>\n",
       "    </tr>\n",
       "    <tr>\n",
       "      <th>...</th>\n",
       "      <td>...</td>\n",
       "      <td>...</td>\n",
       "      <td>...</td>\n",
       "    </tr>\n",
       "    <tr>\n",
       "      <th>82696</th>\n",
       "      <td>TOTAL PTV</td>\n",
       "      <td>7092.5</td>\n",
       "      <td>0.000</td>\n",
       "    </tr>\n",
       "    <tr>\n",
       "      <th>82697</th>\n",
       "      <td>TOTAL PTV</td>\n",
       "      <td>7093.5</td>\n",
       "      <td>0.000</td>\n",
       "    </tr>\n",
       "    <tr>\n",
       "      <th>82698</th>\n",
       "      <td>TOTAL PTV</td>\n",
       "      <td>7095.5</td>\n",
       "      <td>0.000</td>\n",
       "    </tr>\n",
       "    <tr>\n",
       "      <th>82699</th>\n",
       "      <td>TOTAL PTV</td>\n",
       "      <td>7096.5</td>\n",
       "      <td>0.000</td>\n",
       "    </tr>\n",
       "    <tr>\n",
       "      <th>82700</th>\n",
       "      <td>TOTAL PTV</td>\n",
       "      <td>7097.0</td>\n",
       "      <td>0.000</td>\n",
       "    </tr>\n",
       "  </tbody>\n",
       "</table>\n",
       "<p>82701 rows × 3 columns</p>\n",
       "</div>"
      ],
      "text/plain": [
       "       Structure Name   Dose   Volume\n",
       "0      BASE OF TONGUE     0.0   0.000\n",
       "1      BASE OF TONGUE  5676.5   0.000\n",
       "2      BASE OF TONGUE  5677.5   0.005\n",
       "3      BASE OF TONGUE  5678.5   0.000\n",
       "4      BASE OF TONGUE  5698.5   0.000\n",
       "...               ...     ...     ...\n",
       "82696       TOTAL PTV  7092.5   0.000\n",
       "82697       TOTAL PTV  7093.5   0.000\n",
       "82698       TOTAL PTV  7095.5   0.000\n",
       "82699       TOTAL PTV  7096.5   0.000\n",
       "82700       TOTAL PTV  7097.0   0.000\n",
       "\n",
       "[82701 rows x 3 columns]"
      ]
     },
     "execution_count": 7,
     "metadata": {},
     "output_type": "execute_result"
    }
   ],
   "source": [
    "df"
   ]
  },
  {
   "cell_type": "code",
   "execution_count": 8,
   "metadata": {},
   "outputs": [
    {
     "data": {
      "text/plain": [
       "Index(['Structure Name', 'Dose ', 'Volume'], dtype='object')"
      ]
     },
     "execution_count": 8,
     "metadata": {},
     "output_type": "execute_result"
    }
   ],
   "source": [
    "df.columns"
   ]
  },
  {
   "cell_type": "code",
   "execution_count": 9,
   "metadata": {},
   "outputs": [],
   "source": [
    "df['ID']= df['Dose '] * df['Volume']"
   ]
  },
  {
   "cell_type": "code",
   "execution_count": 10,
   "metadata": {},
   "outputs": [
    {
     "data": {
      "text/html": [
       "<div>\n",
       "<style scoped>\n",
       "    .dataframe tbody tr th:only-of-type {\n",
       "        vertical-align: middle;\n",
       "    }\n",
       "\n",
       "    .dataframe tbody tr th {\n",
       "        vertical-align: top;\n",
       "    }\n",
       "\n",
       "    .dataframe thead th {\n",
       "        text-align: right;\n",
       "    }\n",
       "</style>\n",
       "<table border=\"1\" class=\"dataframe\">\n",
       "  <thead>\n",
       "    <tr style=\"text-align: right;\">\n",
       "      <th></th>\n",
       "      <th>Structure Name</th>\n",
       "      <th>Dose</th>\n",
       "      <th>Volume</th>\n",
       "      <th>ID</th>\n",
       "    </tr>\n",
       "  </thead>\n",
       "  <tbody>\n",
       "    <tr>\n",
       "      <th>0</th>\n",
       "      <td>BASE OF TONGUE</td>\n",
       "      <td>0.0</td>\n",
       "      <td>0.000</td>\n",
       "      <td>0.0000</td>\n",
       "    </tr>\n",
       "    <tr>\n",
       "      <th>1</th>\n",
       "      <td>BASE OF TONGUE</td>\n",
       "      <td>5676.5</td>\n",
       "      <td>0.000</td>\n",
       "      <td>0.0000</td>\n",
       "    </tr>\n",
       "    <tr>\n",
       "      <th>2</th>\n",
       "      <td>BASE OF TONGUE</td>\n",
       "      <td>5677.5</td>\n",
       "      <td>0.005</td>\n",
       "      <td>28.3875</td>\n",
       "    </tr>\n",
       "    <tr>\n",
       "      <th>3</th>\n",
       "      <td>BASE OF TONGUE</td>\n",
       "      <td>5678.5</td>\n",
       "      <td>0.000</td>\n",
       "      <td>0.0000</td>\n",
       "    </tr>\n",
       "    <tr>\n",
       "      <th>4</th>\n",
       "      <td>BASE OF TONGUE</td>\n",
       "      <td>5698.5</td>\n",
       "      <td>0.000</td>\n",
       "      <td>0.0000</td>\n",
       "    </tr>\n",
       "    <tr>\n",
       "      <th>...</th>\n",
       "      <td>...</td>\n",
       "      <td>...</td>\n",
       "      <td>...</td>\n",
       "      <td>...</td>\n",
       "    </tr>\n",
       "    <tr>\n",
       "      <th>82696</th>\n",
       "      <td>TOTAL PTV</td>\n",
       "      <td>7092.5</td>\n",
       "      <td>0.000</td>\n",
       "      <td>0.0000</td>\n",
       "    </tr>\n",
       "    <tr>\n",
       "      <th>82697</th>\n",
       "      <td>TOTAL PTV</td>\n",
       "      <td>7093.5</td>\n",
       "      <td>0.000</td>\n",
       "      <td>0.0000</td>\n",
       "    </tr>\n",
       "    <tr>\n",
       "      <th>82698</th>\n",
       "      <td>TOTAL PTV</td>\n",
       "      <td>7095.5</td>\n",
       "      <td>0.000</td>\n",
       "      <td>0.0000</td>\n",
       "    </tr>\n",
       "    <tr>\n",
       "      <th>82699</th>\n",
       "      <td>TOTAL PTV</td>\n",
       "      <td>7096.5</td>\n",
       "      <td>0.000</td>\n",
       "      <td>0.0000</td>\n",
       "    </tr>\n",
       "    <tr>\n",
       "      <th>82700</th>\n",
       "      <td>TOTAL PTV</td>\n",
       "      <td>7097.0</td>\n",
       "      <td>0.000</td>\n",
       "      <td>0.0000</td>\n",
       "    </tr>\n",
       "  </tbody>\n",
       "</table>\n",
       "<p>82701 rows × 4 columns</p>\n",
       "</div>"
      ],
      "text/plain": [
       "       Structure Name   Dose   Volume       ID\n",
       "0      BASE OF TONGUE     0.0   0.000   0.0000\n",
       "1      BASE OF TONGUE  5676.5   0.000   0.0000\n",
       "2      BASE OF TONGUE  5677.5   0.005  28.3875\n",
       "3      BASE OF TONGUE  5678.5   0.000   0.0000\n",
       "4      BASE OF TONGUE  5698.5   0.000   0.0000\n",
       "...               ...     ...     ...      ...\n",
       "82696       TOTAL PTV  7092.5   0.000   0.0000\n",
       "82697       TOTAL PTV  7093.5   0.000   0.0000\n",
       "82698       TOTAL PTV  7095.5   0.000   0.0000\n",
       "82699       TOTAL PTV  7096.5   0.000   0.0000\n",
       "82700       TOTAL PTV  7097.0   0.000   0.0000\n",
       "\n",
       "[82701 rows x 4 columns]"
      ]
     },
     "execution_count": 10,
     "metadata": {},
     "output_type": "execute_result"
    }
   ],
   "source": [
    "df"
   ]
  },
  {
   "cell_type": "code",
   "execution_count": 6,
   "metadata": {},
   "outputs": [],
   "source": [
    "df_all=df.groupby('Structure Name')['ID'].sum()"
   ]
  },
  {
   "cell_type": "code",
   "execution_count": 7,
   "metadata": {},
   "outputs": [
    {
     "data": {
      "text/plain": [
       "Structure Name\n",
       "BASE OF TONGUE         647958.6085\n",
       "BRAINSTEM               52273.6070\n",
       "CONSTRICTOR_INF        460058.6310\n",
       "CONSTRICTOR_MID        516593.9100\n",
       "CONSTRICTOR_SUP        549301.0840\n",
       "CRICOPHARYNX           459147.7815\n",
       "CTV_54                 560288.3190\n",
       "CTV_66                 655949.7145\n",
       "ESOPHAGUS              364630.3270\n",
       "EX_PAROTID L           114897.5885\n",
       "EX_PAROTID R           233443.4610\n",
       "EYE BALL_L              17423.2345\n",
       "EYE BALL_R              19216.1490\n",
       "GTV_P                  654932.6585\n",
       "LARYNX_GLOTTIC         521925.6400\n",
       "LARYNX_SUPRAGLOTTIC    557265.7145\n",
       "LENS_L                  17216.7985\n",
       "LENS_R                  18646.9725\n",
       "LIPS                   379469.9250\n",
       "LN_1A                  590924.2985\n",
       "LN_VII_R               553727.3145\n",
       "LN_V_R                 548529.3215\n",
       "MANDIBLE               524347.2330\n",
       "NO DOSE                421685.2475\n",
       "OPTIC CHIASMA           15501.6765\n",
       "OPTIC NERVE_L           18192.9140\n",
       "OPTIC NERVE_R           21330.6710\n",
       "PAROTID L              228037.5285\n",
       "PAROTID R              331290.7145\n",
       "PRV CORD               240736.6080\n",
       "PRV OPTIC NERVE_L       18744.4560\n",
       "PRV OPTIC NERVE_R       21555.9180\n",
       "PTV_54                 549712.3360\n",
       "PTV_66                 655007.7395\n",
       "SPINAL CORD            215752.8330\n",
       "SUBMANDIBULAR_L        539759.8875\n",
       "THYROID                533872.8835\n",
       "TOTAL PTV              598945.8715\n",
       "patient(Unsp.Tiss.)    141243.0280\n",
       "Name: ID, dtype: float64"
      ]
     },
     "execution_count": 7,
     "metadata": {},
     "output_type": "execute_result"
    }
   ],
   "source": [
    "df_all"
   ]
  },
  {
   "cell_type": "code",
   "execution_count": 9,
   "metadata": {},
   "outputs": [],
   "source": [
    "df_all=df_all/100"
   ]
  },
  {
   "cell_type": "code",
   "execution_count": 10,
   "metadata": {},
   "outputs": [
    {
     "data": {
      "text/plain": [
       "Structure Name\n",
       "BASE OF TONGUE         6479.586085\n",
       "BRAINSTEM               522.736070\n",
       "CONSTRICTOR_INF        4600.586310\n",
       "CONSTRICTOR_MID        5165.939100\n",
       "CONSTRICTOR_SUP        5493.010840\n",
       "CRICOPHARYNX           4591.477815\n",
       "CTV_54                 5602.883190\n",
       "CTV_66                 6559.497145\n",
       "ESOPHAGUS              3646.303270\n",
       "EX_PAROTID L           1148.975885\n",
       "EX_PAROTID R           2334.434610\n",
       "EYE BALL_L              174.232345\n",
       "EYE BALL_R              192.161490\n",
       "GTV_P                  6549.326585\n",
       "LARYNX_GLOTTIC         5219.256400\n",
       "LARYNX_SUPRAGLOTTIC    5572.657145\n",
       "LENS_L                  172.167985\n",
       "LENS_R                  186.469725\n",
       "LIPS                   3794.699250\n",
       "LN_1A                  5909.242985\n",
       "LN_VII_R               5537.273145\n",
       "LN_V_R                 5485.293215\n",
       "MANDIBLE               5243.472330\n",
       "NO DOSE                4216.852475\n",
       "OPTIC CHIASMA           155.016765\n",
       "OPTIC NERVE_L           181.929140\n",
       "OPTIC NERVE_R           213.306710\n",
       "PAROTID L              2280.375285\n",
       "PAROTID R              3312.907145\n",
       "PRV CORD               2407.366080\n",
       "PRV OPTIC NERVE_L       187.444560\n",
       "PRV OPTIC NERVE_R       215.559180\n",
       "PTV_54                 5497.123360\n",
       "PTV_66                 6550.077395\n",
       "SPINAL CORD            2157.528330\n",
       "SUBMANDIBULAR_L        5397.598875\n",
       "THYROID                5338.728835\n",
       "TOTAL PTV              5989.458715\n",
       "patient(Unsp.Tiss.)    1412.430280\n",
       "Name: ID, dtype: float64"
      ]
     },
     "execution_count": 10,
     "metadata": {},
     "output_type": "execute_result"
    }
   ],
   "source": [
    "df_all"
   ]
  },
  {
   "cell_type": "code",
   "execution_count": 17,
   "metadata": {},
   "outputs": [],
   "source": [
    "df_all = df_all.reset_index()\n",
    "writer = pd.ExcelWriter(r\"C:\\Users\\HP PC\\Desktop\\005\\KOSHILYA_DVH_7&9_Beams.xlsx\", engine = 'openpyxl', mode='a')\n",
    "df_all.to_excel(writer, sheet_name = '9_Beams_Final', index=None)\n",
    "writer.close()\n"
   ]
  },
  {
   "cell_type": "code",
   "execution_count": 11,
   "metadata": {},
   "outputs": [
    {
     "name": "stdout",
     "output_type": "stream",
     "text": [
      "135695.38605\n"
     ]
    }
   ],
   "source": [
    "y = df_all.sum()\n",
    "print(y)"
   ]
  }
 ],
 "metadata": {
  "kernelspec": {
   "display_name": "Python 3.9.12 ('base')",
   "language": "python",
   "name": "python3"
  },
  "language_info": {
   "codemirror_mode": {
    "name": "ipython",
    "version": 3
   },
   "file_extension": ".py",
   "mimetype": "text/x-python",
   "name": "python",
   "nbconvert_exporter": "python",
   "pygments_lexer": "ipython3",
   "version": "3.9.12 (main, Apr  4 2022, 05:22:27) [MSC v.1916 64 bit (AMD64)]"
  },
  "orig_nbformat": 4,
  "vscode": {
   "interpreter": {
    "hash": "c28b3cece02bc02c12fa5766a988d4443922620539affbc7b46a193a80d0f256"
   }
  }
 },
 "nbformat": 4,
 "nbformat_minor": 2
}
